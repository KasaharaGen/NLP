{
 "cells": [
  {
   "cell_type": "code",
   "execution_count": 3,
   "metadata": {},
   "outputs": [],
   "source": [
    "import os\n",
    "import pandas as pd\n",
    "import glob\n",
    "from transformers import BertTokenizer, BertModel\n",
    "import torch\n",
    "from sklearn.metrics.pairwise import cosine_similarity\n",
    "from tqdm import tqdm"
   ]
  },
  {
   "cell_type": "code",
   "execution_count": null,
   "metadata": {},
   "outputs": [
    {
     "data": {
      "application/vnd.jupyter.widget-view+json": {
       "model_id": "135dc84a21d94a50b4e00e6d59c43db7",
       "version_major": 2,
       "version_minor": 0
      },
      "text/plain": [
       "tokenizer_config.json:   0%|          | 0.00/48.0 [00:00<?, ?B/s]"
      ]
     },
     "metadata": {},
     "output_type": "display_data"
    },
    {
     "data": {
      "application/vnd.jupyter.widget-view+json": {
       "model_id": "87b36db3d7ce40e3aaf46ae9ee5353f5",
       "version_major": 2,
       "version_minor": 0
      },
      "text/plain": [
       "vocab.txt:   0%|          | 0.00/232k [00:00<?, ?B/s]"
      ]
     },
     "metadata": {},
     "output_type": "display_data"
    },
    {
     "data": {
      "application/vnd.jupyter.widget-view+json": {
       "model_id": "415122b5e0e54b1fbc968194ce999f7f",
       "version_major": 2,
       "version_minor": 0
      },
      "text/plain": [
       "tokenizer.json:   0%|          | 0.00/466k [00:00<?, ?B/s]"
      ]
     },
     "metadata": {},
     "output_type": "display_data"
    },
    {
     "data": {
      "application/vnd.jupyter.widget-view+json": {
       "model_id": "5172293db52248a68de7fabd818fe7e0",
       "version_major": 2,
       "version_minor": 0
      },
      "text/plain": [
       "config.json:   0%|          | 0.00/570 [00:00<?, ?B/s]"
      ]
     },
     "metadata": {},
     "output_type": "display_data"
    },
    {
     "data": {
      "application/vnd.jupyter.widget-view+json": {
       "model_id": "3b157bc278e74208a597eb62d9907774",
       "version_major": 2,
       "version_minor": 0
      },
      "text/plain": [
       "model.safetensors:   0%|          | 0.00/440M [00:00<?, ?B/s]"
      ]
     },
     "metadata": {},
     "output_type": "display_data"
    },
    {
     "name": "stderr",
     "output_type": "stream",
     "text": [
      "100%|██████████| 10001/10001 [2:33:56<00:00,  1.08it/s] \n"
     ]
    },
    {
     "name": "stdout",
     "output_type": "stream",
     "text": [
      "該当するファイル数: 2499\n"
     ]
    }
   ],
   "source": [
    "# folder path\n",
    "data_folder = \"../data/text\"\n",
    "\n",
    "# BERT\n",
    "tokenizer = BertTokenizer.from_pretrained('bert-base-uncased')\n",
    "model = BertModel.from_pretrained('bert-base-uncased')\n",
    "\n",
    "# query\n",
    "query = \"how to hide purchase history in app store\"\n",
    "\n",
    "# encording\n",
    "def encode_text(text):\n",
    "    inputs = tokenizer(text, return_tensors='pt', max_length=512, truncation=True, padding='max_length')\n",
    "    with torch.no_grad():\n",
    "        outputs = model(**inputs)\n",
    "    return outputs.last_hidden_state[:, 0, :].numpy().flatten()\n",
    "\n",
    "query_vector = encode_text(query)\n",
    "\n",
    "# target file\n",
    "text_files = glob.glob(os.path.join(data_folder, \"*.txt\"))\n",
    "\n",
    "# near text\n",
    "relevant_files = []\n",
    "\n",
    "for file in tqdm(text_files):\n",
    "    try:\n",
    "        with open(file, \"r\", encoding=\"utf-8\", errors=\"ignore\") as f:\n",
    "            text = f.read()\n",
    "            text_vector = encode_text(text)\n",
    "            similarity = cosine_similarity([query_vector], [text_vector])[0][0]\n",
    "            if similarity > 0.7:  \n",
    "                relevant_files.append((file, similarity))\n",
    "    except Exception as e:\n",
    "        print(f\"Error processing {file}: {e}\")\n",
    "\n",
    "df = pd.DataFrame(relevant_files, columns=[\"File\", \"Similarity\"])\n",
    "df.to_csv(\"../result/bert_search_results.csv\", index=False)\n",
    "\n",
    "print(f\"該当するファイル数: {len(relevant_files)}\")\n"
   ]
  },
  {
   "cell_type": "code",
   "execution_count": 4,
   "metadata": {},
   "outputs": [
    {
     "name": "stdout",
     "output_type": "stream",
     "text": [
      "類似度上位10件のファイル:\n",
      "                       File  Similarity\n",
      "1296  ../data/text/5583.txt    0.864557\n",
      "1931  ../data/text/6360.txt    0.856678\n",
      "2415  ../data/text/9925.txt    0.855231\n",
      "1512  ../data/text/4992.txt    0.854641\n",
      "460    ../data/text/437.txt    0.848185\n",
      "1902  ../data/text/9090.txt    0.847875\n",
      "2050  ../data/text/7046.txt    0.847269\n",
      "1891  ../data/text/2363.txt    0.843861\n",
      "2193  ../data/text/2023.txt    0.843390\n",
      "1140  ../data/text/4867.txt    0.841890\n"
     ]
    }
   ],
   "source": [
    "df=pd.read_csv(\"../result/bert_search_results.csv\")\n",
    "top_10_files = df.sort_values(by=\"Similarity\", ascending=False).head(10)\n",
    "print(\"類似度上位10件のファイル:\")\n",
    "print(top_10_files)"
   ]
  },
  {
   "cell_type": "code",
   "execution_count": 5,
   "metadata": {},
   "outputs": [
    {
     "name": "stdout",
     "output_type": "stream",
     "text": [
      "\n",
      "--- ファイル: ../data/text/5583.txt ---\n",
      "類似度: 0.8645571\n",
      "内容:\n",
      "Q: How can I enable pinch to zoom in Finder on OS X Lion? After upgrading to Lion the pinch-to-zoom seems to be gone in Finder.  Didn't even find an option for it in system preferences. Any ideas?\n",
      "\n",
      "A: The preference for this used to be located in Finder>Preferences. It's no longer available and after some research online, it looks like no one has discovered a way to turn this on using a plist edit. \n",
      "You might consider telling Apple about how much you miss this:\n",
      "http://www.apple.com/feedback/maco\n",
      "\n",
      "--- ファイル: ../data/text/6360.txt ---\n",
      "類似度: 0.8566777\n",
      "内容:\n",
      "Q: Is there any IDE for iPad? \n",
      "Possible Duplicate:\n",
      "HTML / CSS / Javascript editor for the iPad? \n",
      "\n",
      "Is there any IDE like Notepad++ for iPad? I want to create HTML pages with CSS and jQuery on my iPad.\n",
      "\n",
      "A: Haven't used it myself, but Textastic ($10) should help you with a lot of what you're looking to do.\n",
      "http://www.textasticapp.com/\n",
      "\n",
      "\n",
      "--- ファイル: ../data/text/9925.txt ---\n",
      "類似度: 0.8552313\n",
      "内容:\n",
      "Q: Fine Adjustment in Playback on Itunes How do I do fine adjustment on the progress of video playback in iTunes?\n",
      "For example, on the iPad, if you slide you finger down while holding onto the dot on the playback progress bar, you will go into fine adjustment mode and you track the progress second by second.\n",
      "Btw, I'm on OS x\n",
      "Thanks\n",
      "\n",
      "A: Maybe that's helpful.\n",
      "http://www.youtube.com/watch?v=DnhFxY40C_w\n",
      "\n",
      "\n",
      "--- ファイル: ../data/text/4992.txt ---\n",
      "類似度: 0.8546413\n",
      "内容:\n",
      "Q: Yellow mexican singer in system 7 / mac os 8? What was that extension in System 7 and Mac OS 8 which put a little yellow smiley thing of a mexican singing out of tune on your screen?\n",
      "\n",
      "A: Jared: the Butcher of Song\n",
      "http://en.m.wikipedia.org/wiki/Jared_Smith\n",
      "\n",
      "\n",
      "--- ファイル: ../data/text/437.txt ---\n",
      "類似度: 0.8481853\n",
      "内容:\n",
      "Q: What is the procedure for replacing the battery on an iPhone? What is the procedure for replacing the battery on an iPhone?\n",
      "\n",
      "A: iFixit has excellent text and video guides for replacing the battery on all models of the iPhone.  Here's their iPhone 4 battery replacement guide.\n",
      "\n",
      "A: If you want to keep your warranty alive at all, take it to your local Apple store or authorised repair centre and ask for the service. Any other action may void your warranty.\n",
      "\n",
      "A: It depends on which one you have. I h\n",
      "\n",
      "--- ファイル: ../data/text/9090.txt ---\n",
      "類似度: 0.8478749\n",
      "内容:\n",
      "Q: Skyrim on parallels Will I be able to play Skyrim in Parallels?\n",
      "These are my specs:\n",
      "http://cl.ly/0o3l2Z2w2I422k2o101D\n",
      "Bootcamp is a non-starter for me (too lazy).\n",
      "Thanks!\n",
      "\n",
      "\n",
      "--- ファイル: ../data/text/7046.txt ---\n",
      "類似度: 0.84726894\n",
      "内容:\n",
      "Q: Mouse movement in Windows like Mac While most people seem to want the Windows mouse movement on their Mac, I'd like it the other way around! Basically just remove the mouse acceleration on Windows.\n",
      "Ideas, anyone?\n",
      "P.S. I posted this in the Apple section because I would get annihilated by Windows fanboys!\n",
      "\n",
      "A: Try http://support.microsoft.com/kb/149228\n",
      "But good luck anyway, in this Mac crowd! :)\n",
      "\n",
      "\n",
      "--- ファイル: ../data/text/2363.txt ---\n",
      "類似度: 0.8438611\n",
      "内容:\n",
      "Q: software for autoslicing a song I'm searching a program for slicing a song (MP3, wav, whatever) automatically in different patterns.\n",
      "\n",
      "A: I hope I understand correctly, you are trying to edit a song, perhaps for a ringtone or something ? \n",
      "You could try Garageband that ships with your Mac,\n",
      "Or you could try this Program, Audacity, I find it very useful.\n",
      "http://audacity.sourceforge.net/\n",
      "Hope it helps\n",
      "Karl\n",
      "\n",
      "\n",
      "--- ファイル: ../data/text/2023.txt ---\n",
      "類似度: 0.8433903\n",
      "内容:\n",
      "Q: Utility to integrate iTunes with Amazon \n",
      "Is there any utility or script that integrates with iTunes and helps me organize my libraries by doing lookups on large databases such as Amazon?\n",
      "\n",
      "For example:\n",
      "\n",
      "\n",
      "*\n",
      "\n",
      "*downloading track names from Amazon\n",
      "\n",
      "*downloading CD covers from Amazon\n",
      "\n",
      "*downloading book categories from Amazon (this one especially would be useful)\n",
      "\n",
      "\n",
      "Or in general, at least a \"look it up on Amazon\" script would be great.\n",
      "\n",
      "A: Meta X works great for me for movies, not sure if you're loo\n",
      "\n",
      "--- ファイル: ../data/text/4867.txt ---\n",
      "類似度: 0.84188986\n",
      "内容:\n",
      "Q: Umount Gamepad under Mac OS X I can plug in my gamepad controller and usb probe shows me, that it is recognized. I want to umount it, so that I can use it under the Virtualbox. Where does Mac mount USB devices such as a gamepad.\n",
      "Here is a picture of the usb probe output:\n",
      "\n",
      "Thanks for your help!\n",
      "\n"
     ]
    }
   ],
   "source": [
    "for idx, row in top_10_files.iterrows():\n",
    "    file_path = row['File']\n",
    "    similarity = row['Similarity']\n",
    "    try:\n",
    "        with open(file_path, 'r', encoding='utf-8', errors='ignore') as f:\n",
    "            text_content = f.read()\n",
    "            print(f\"\\n--- ファイル: {file_path} ---\")\n",
    "            print(f\"類似度: {similarity}\")\n",
    "            print(f\"内容:\\n{text_content[:500]}\") \n",
    "    except Exception as e:\n",
    "        print(f\"Error processing {file_path}: {e}\")"
   ]
  },
  {
   "cell_type": "code",
   "execution_count": null,
   "metadata": {},
   "outputs": [],
   "source": []
  }
 ],
 "metadata": {
  "kernelspec": {
   "display_name": "torch",
   "language": "python",
   "name": "python3"
  },
  "language_info": {
   "codemirror_mode": {
    "name": "ipython",
    "version": 3
   },
   "file_extension": ".py",
   "mimetype": "text/x-python",
   "name": "python",
   "nbconvert_exporter": "python",
   "pygments_lexer": "ipython3",
   "version": "3.12.7"
  }
 },
 "nbformat": 4,
 "nbformat_minor": 2
}
