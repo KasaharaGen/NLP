{
 "cells": [
  {
   "cell_type": "code",
   "execution_count": 1,
   "metadata": {},
   "outputs": [],
   "source": [
    "import os\n",
    "import pandas as pd\n",
    "import glob\n",
    "import multiprocessing\n"
   ]
  },
  {
   "cell_type": "code",
   "execution_count": 3,
   "metadata": {},
   "outputs": [
    {
     "name": "stdout",
     "output_type": "stream",
     "text": [
      "Apple関連のワードが含まれるファイル数: 8725 / 10001\n"
     ]
    }
   ],
   "source": [
    "#folder path\n",
    "data_folder = \"../data/text\"\n",
    "\n",
    "# key words\n",
    "apple_keywords = [\"mac\", \"ios\", \"iphone\", \"ipad\", \"apple\", \"app store\", \"macos\"]\n",
    "\n",
    "# merge target text file\n",
    "text_files = glob.glob(os.path.join(data_folder, \"*.txt\"))\n",
    "\n",
    "# related apple words list\n",
    "apple_related_files = multiprocessing.Manager().list()\n",
    "\n",
    "def check_file(file):\n",
    "    try:\n",
    "        with open(file, \"r\", encoding=\"utf-8\", errors=\"ignore\") as f:\n",
    "            text = f.read().lower()  # すべて小文字に変換\n",
    "            if any(word in text for word in apple_keywords):\n",
    "                apple_related_files.append(file)\n",
    "    except Exception as e:\n",
    "        print(f\"Error reading {file}: {e}\")\n",
    "\n",
    "if __name__ == \"__main__\":\n",
    "    num_workers = multiprocessing.cpu_count()\n",
    "\n",
    "    with multiprocessing.Pool(processes=num_workers) as pool:\n",
    "        pool.map(check_file, text_files)\n",
    "\n",
    "    print(f\"Apple関連のワードが含まれるファイル数: {len(apple_related_files)} / {len(text_files)}\")\n",
    "\n",
    "    pd.DataFrame(list(apple_related_files), columns=[\"File\"]).to_csv(\"../result/apple_related_files.csv\", index=False)\n"
   ]
  },
  {
   "cell_type": "code",
   "execution_count": null,
   "metadata": {},
   "outputs": [],
   "source": []
  }
 ],
 "metadata": {
  "kernelspec": {
   "display_name": "torch",
   "language": "python",
   "name": "python3"
  },
  "language_info": {
   "codemirror_mode": {
    "name": "ipython",
    "version": 3
   },
   "file_extension": ".py",
   "mimetype": "text/x-python",
   "name": "python",
   "nbconvert_exporter": "python",
   "pygments_lexer": "ipython3",
   "version": "3.12.7"
  }
 },
 "nbformat": 4,
 "nbformat_minor": 2
}
