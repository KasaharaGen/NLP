{
 "cells": [
  {
   "cell_type": "code",
   "execution_count": 2,
   "metadata": {},
   "outputs": [],
   "source": [
    "import os\n",
    "import glob\n",
    "import torch\n",
    "import pandas as pd\n",
    "from sentence_transformers import SentenceTransformer, util"
   ]
  },
  {
   "cell_type": "code",
   "execution_count": null,
   "metadata": {},
   "outputs": [
    {
     "name": "stdout",
     "output_type": "stream",
     "text": [
      "Using device: cpu\n"
     ]
    },
    {
     "data": {
      "application/vnd.jupyter.widget-view+json": {
       "model_id": "d9ef559f2f164b3f8b47aa3b8d7111be",
       "version_major": 2,
       "version_minor": 0
      },
      "text/plain": [
       "model.safetensors:  23%|##3       | 21.0M/90.9M [00:00<?, ?B/s]"
      ]
     },
     "metadata": {},
     "output_type": "display_data"
    },
    {
     "data": {
      "application/vnd.jupyter.widget-view+json": {
       "model_id": "8b183583c7344be59e84bb307a28f5c1",
       "version_major": 2,
       "version_minor": 0
      },
      "text/plain": [
       "tokenizer_config.json:   0%|          | 0.00/350 [00:00<?, ?B/s]"
      ]
     },
     "metadata": {},
     "output_type": "display_data"
    },
    {
     "data": {
      "application/vnd.jupyter.widget-view+json": {
       "model_id": "38039d9ab559448ca16a0f420e7a755b",
       "version_major": 2,
       "version_minor": 0
      },
      "text/plain": [
       "vocab.txt:   0%|          | 0.00/232k [00:00<?, ?B/s]"
      ]
     },
     "metadata": {},
     "output_type": "display_data"
    },
    {
     "data": {
      "application/vnd.jupyter.widget-view+json": {
       "model_id": "aec535a3bd8749968a746950a38883fc",
       "version_major": 2,
       "version_minor": 0
      },
      "text/plain": [
       "tokenizer.json:   0%|          | 0.00/466k [00:00<?, ?B/s]"
      ]
     },
     "metadata": {},
     "output_type": "display_data"
    },
    {
     "data": {
      "application/vnd.jupyter.widget-view+json": {
       "model_id": "c63a8e22d10e4b4baec4cfca45dc9353",
       "version_major": 2,
       "version_minor": 0
      },
      "text/plain": [
       "special_tokens_map.json:   0%|          | 0.00/112 [00:00<?, ?B/s]"
      ]
     },
     "metadata": {},
     "output_type": "display_data"
    },
    {
     "data": {
      "application/vnd.jupyter.widget-view+json": {
       "model_id": "4ff7eedf8a09431eb97b49b22a0d67e8",
       "version_major": 2,
       "version_minor": 0
      },
      "text/plain": [
       "1_Pooling%2Fconfig.json:   0%|          | 0.00/190 [00:00<?, ?B/s]"
      ]
     },
     "metadata": {},
     "output_type": "display_data"
    },
    {
     "name": "stdout",
     "output_type": "stream",
     "text": [
      "Top 5 relevant files:\n",
      "                    File  Similarity\n",
      "0  ../data/text/8210.txt    0.750824\n",
      "1  ../data/text/7250.txt    0.699581\n",
      "2  ../data/text/4601.txt    0.669198\n",
      "3  ../data/text/4729.txt    0.668846\n",
      "4  ../data/text/3133.txt    0.652501\n"
     ]
    }
   ],
   "source": [
    "# 環境変数で tokenizers の並列処理を無効化\n",
    "os.environ[\"TOKENIZERS_PARALLELISM\"] = \"false\"\n",
    "\n",
    "# folder path\n",
    "data_folder = \"../data\"\n",
    "\n",
    "# setting GPU\n",
    "device = torch.device(\"cuda\" if torch.cuda.is_available() else \"cpu\")\n",
    "print(f\"Using device: {device}\")\n",
    "\n",
    "# BERT\n",
    "model_name = \"sentence-transformers/all-MiniLM-L6-v2\"\n",
    "model = SentenceTransformer(model_name, device=device)  \n",
    "\n",
    "# query\n",
    "query = \"how to hide purchase history in the app store?\"\n",
    "query_embedding = model.encode(query, convert_to_tensor=True).to(device)\n",
    "\n",
    "# target text file\n",
    "text_files = glob.glob(os.path.join(data_folder, \"text\", \"*.txt\"))\n",
    "\n",
    "\n",
    "results = []\n",
    "\n",
    "def get_text_embedding(file):\n",
    "    \"\"\" 各ファイルのテキストをベクトル化し、クエリと類似度を計算 \"\"\"\n",
    "    try:\n",
    "        with open(file, \"r\", encoding=\"utf-8\", errors=\"ignore\") as f:\n",
    "            text = f.read().lower()  \n",
    "            if len(text) < 10:  \n",
    "                return None\n",
    "\n",
    "            \n",
    "            text_embedding = model.encode(text, convert_to_tensor=True).to(device)\n",
    "\n",
    "            similarity = util.pytorch_cos_sim(query_embedding, text_embedding).item()\n",
    "            \n",
    "            return (file, similarity)\n",
    "    \n",
    "    except Exception as e:\n",
    "        print(f\"Error processing {file}: {e}\")\n",
    "        return None\n",
    "\n",
    "\n",
    "for file in text_files:\n",
    "    result = get_text_embedding(file)\n",
    "    if result:\n",
    "        results.append(result)\n",
    "\n",
    "# sort\n",
    "results.sort(key=lambda x: x[1], reverse=True)\n",
    "\n",
    "# save csv\n",
    "df = pd.DataFrame(results, columns=[\"File\", \"Similarity\"])\n",
    "df.to_csv(\"../result/purchase_hide_related_files_bert.csv\", index=False)\n",
    "\n",
    "# present result\n",
    "print(\"Top 5 relevant files:\")\n",
    "print(df.head(5))\n"
   ]
  },
  {
   "cell_type": "code",
   "execution_count": 6,
   "metadata": {},
   "outputs": [
    {
     "name": "stdout",
     "output_type": "stream",
     "text": [
      "類似度上位10件のファイル:\n",
      "                    File  Similarity\n",
      "0  ../data/text/8210.txt    0.750824\n",
      "1  ../data/text/7250.txt    0.699581\n",
      "2  ../data/text/4601.txt    0.669198\n",
      "3  ../data/text/4729.txt    0.668846\n",
      "4  ../data/text/3133.txt    0.652501\n",
      "5  ../data/text/6349.txt    0.602130\n",
      "6   ../data/text/483.txt    0.598953\n",
      "7  ../data/text/1042.txt    0.594634\n",
      "8  ../data/text/6657.txt    0.594049\n"
     ]
    }
   ],
   "source": [
    "df=pd.read_csv(\"../result/purchase_hide_related_files_bert.csv\")\n",
    "top_10_files = df.sort_values(by=\"Similarity\", ascending=False).head(9)\n",
    "print(\"類似度上位10件のファイル:\")\n",
    "print(top_10_files)"
   ]
  },
  {
   "cell_type": "code",
   "execution_count": 7,
   "metadata": {},
   "outputs": [
    {
     "name": "stdout",
     "output_type": "stream",
     "text": [
      "\n",
      "--- ファイル: ../data/text/8210.txt ---\n",
      "類似度: 0.750823974609375\n",
      "内容:\n",
      "Q: How do I unhide purchases from the App Store? \n",
      "Possible Duplicate:\n",
      "Is possible modify the App Store purchased listing (delete or hide some/unhide other hidden apps)? \n",
      "\n",
      "I hid an app listed in my purchased list by accident, how would I go about getting in back?\n",
      "\n",
      "A: *\n",
      "\n",
      "*Go to your account in iTunes on your computer by selecting your Apple ID on the top right in the iTunes Store.\n",
      "\n",
      "*Select view hidden purchases.\n",
      "\n",
      "*Find the app and unhide.\n",
      "\n",
      "\n",
      "\n",
      "\n",
      "\n",
      "--- ファイル: ../data/text/7250.txt ---\n",
      "類似度: 0.6995807886123657\n",
      "内容:\n",
      "Q: Is possible modify the App Store purchased listing (delete or hide some/unhide other hidden apps)? I have an application listed in my bought applications. I prefer to not see or hide some apps I have purchased in the list of purchased apps. Is there a way to do this? Can I reverse this and unhide these hidden apps at a later date?\n",
      "For example:\n",
      "\n",
      "\n",
      "A: Not on any version of the Mac App Store and iTunes App store for iTunes versions older than 10.5\n",
      "It appears you can now hide iOS App Store purchas\n",
      "\n",
      "--- ファイル: ../data/text/4601.txt ---\n",
      "類似度: 0.6691976189613342\n",
      "内容:\n",
      "Q: I need to delete apps that I have previously purchased and deleted from my account history I need to remove some apps from my account history forever because I don't want them anymore, and because iCloud keeps a new history format I need to know the process which is doing this.\n",
      "\n",
      "A: I doubt you can. Your account history is on Apple's servers, so you can only read it. I doubt they'd delete anything from there for you just in case you change your mind and want it back. There's certainly nothing \n",
      "\n",
      "--- ファイル: ../data/text/4729.txt ---\n",
      "類似度: 0.668845534324646\n",
      "内容:\n",
      "Q: Deleting iTunes App Store purchases from my account So... Over the period of 2 years owning my beloved iPhone 3GS, I have found many useful apps that I use very frequently. However, in the process of finding these apps, I have also downloaded much, much more crappy apps.\n",
      "With the introduction of the \"Purchased\" section on the App Store, many of the hundreds of apps I downloaded (mostly crappy) have popped up again. The apps are an eyesore and clutter up the whole space. Is there a way for me \n",
      "\n",
      "--- ファイル: ../data/text/3133.txt ---\n",
      "類似度: 0.6525005102157593\n",
      "内容:\n",
      "Q: Is there a way to see all iPhone App Store purchases? I'm wondering whether there is a way to see all iPhone App Store purchases in a similar fashion that is available on Mac App Store in Purchased section.\n",
      "\n",
      "A: I don't think there is a way to view just iPhone App purchases.\n",
      "You can view your whole iTunes purchase history. You can see your iPhone app purchases there.\n",
      "Open iTunes -> Store menu -> View My Account -> Sign in -> Go to Purchase History\n",
      "Update: This seem to include all your purchase\n",
      "\n",
      "--- ファイル: ../data/text/6349.txt ---\n",
      "類似度: 0.6021304130554199\n",
      "内容:\n",
      "Q: How to remove apps from the \"Purchased\" list in the Mac OSX App Store? I've installed a bunch of apps from the App Store, some free, some paid. Many of them are garbage, were uninstalled, and I don't intend to ever install them again.\n",
      "How can I remove (or hide) them from the \"Purchased\" list?\n",
      "\n",
      "A: I am running Lion (10.7.2), and there is an x just to the left of the Install / Installed button when you hover over the item in the purchased list. Click it for each App you do not want listed. I do\n",
      "\n",
      "--- ファイル: ../data/text/483.txt ---\n",
      "類似度: 0.5989525318145752\n",
      "内容:\n",
      "Q: How can I find out which apps I have already downloaded on my iPhone? When you attempt to download an app that costs money, you will not be charged if you already bought the app. After you press buy and enter your iTunes password, it will say \"You have already purchased this item. To download it again for free, select OK.\"\n",
      "The problem is that I deleted hundreds of apps from my phone, some of which were paid for. Later on I might find an app I like but notice that it costs money. It might be a\n",
      "\n",
      "--- ファイル: ../data/text/1042.txt ---\n",
      "類似度: 0.5946338176727295\n",
      "内容:\n",
      "Q: I uninstalled an app. How do I get it back? \n",
      "Possible Duplicate:\n",
      "How can I find out which apps I have already downloaded on my iPhone? \n",
      "\n",
      "The knowledge base mentions that you get to reinstall the app for free... once you find it again on the store, which is no easy task. There are dozens of apps, all alike the one that was installed.\n",
      "Is there a way to have a list of apps you have bought? At what point of the purchasing process does this dialog appear? Does a price tag appear for already purcha\n",
      "\n",
      "--- ファイル: ../data/text/6657.txt ---\n",
      "類似度: 0.594049334526062\n",
      "内容:\n",
      "Q: Is there a way to differentiate between paid and free apps in iTunes purchase history? I want to know what apps I've paid money for, as opposed to free apps that were downloaded. \n",
      "I need to know this because I gave my little brother my old 3GS to use as an iPod which remains attached to my iTunes account because he doesn't have a credit card or an income in order set up an account. I notice that he downloads a lot of apps, games in particular, and I'm worried because I've tried a few that see\n"
     ]
    }
   ],
   "source": [
    "for idx, row in top_10_files.iterrows():\n",
    "    file_path = row['File']\n",
    "    similarity = row['Similarity']\n",
    "    try:\n",
    "        with open(file_path, 'r', encoding='utf-8', errors='ignore') as f:\n",
    "            text_content = f.read()\n",
    "            print(f\"\\n--- ファイル: {file_path} ---\")\n",
    "            print(f\"類似度: {similarity}\")\n",
    "            print(f\"内容:\\n{text_content[:500]}\") \n",
    "    except Exception as e:\n",
    "        print(f\"Error processing {file_path}: {e}\")"
   ]
  },
  {
   "cell_type": "code",
   "execution_count": null,
   "metadata": {},
   "outputs": [],
   "source": []
  }
 ],
 "metadata": {
  "kernelspec": {
   "display_name": "torch",
   "language": "python",
   "name": "python3"
  },
  "language_info": {
   "codemirror_mode": {
    "name": "ipython",
    "version": 3
   },
   "file_extension": ".py",
   "mimetype": "text/x-python",
   "name": "python",
   "nbconvert_exporter": "python",
   "pygments_lexer": "ipython3",
   "version": "3.12.7"
  }
 },
 "nbformat": 4,
 "nbformat_minor": 2
}
